{
  "nbformat": 4,
  "nbformat_minor": 0,
  "metadata": {
    "colab": {
      "provenance": [],
      "authorship_tag": "ABX9TyPf04Vku3O9Q+nojaHPrmzK",
      "include_colab_link": true
    },
    "kernelspec": {
      "name": "python3",
      "display_name": "Python 3"
    },
    "language_info": {
      "name": "python"
    }
  },
  "cells": [
    {
      "cell_type": "markdown",
      "metadata": {
        "id": "view-in-github",
        "colab_type": "text"
      },
      "source": [
        "<a href=\"https://colab.research.google.com/github/be-next/TP-IA/blob/main/TP_IA_06.ipynb\" target=\"_parent\"><img src=\"https://colab.research.google.com/assets/colab-badge.svg\" alt=\"Open In Colab\"/></a>"
      ]
    },
    {
      "cell_type": "markdown",
      "source": [
        "# MLP avec SciKit-Learn\n",
        "\n",
        "  - Utilisation d'un ``pipeline``.\n",
        "  - Utilisation d'une ``grid``."
      ],
      "metadata": {
        "id": "p0vIq0-YeLld"
      }
    },
    {
      "cell_type": "code",
      "execution_count": null,
      "metadata": {
        "id": "uK6eJ-C67xH3"
      },
      "outputs": [],
      "source": [
        "import pandas as pd\n",
        "from sklearn.neural_network import MLPClassifier\n",
        "from sklearn.preprocessing import StandardScaler\n",
        "from sklearn.pipeline import make_pipeline\n",
        "from sklearn.model_selection import train_test_split"
      ]
    },
    {
      "cell_type": "code",
      "source": [
        "url = \"https://raw.githubusercontent.com/be-next/TP-IA/main/datasets/segmentation_test.csv\"\n",
        "D = pd.read_csv(url)"
      ],
      "metadata": {
        "id": "LonPbQxm8Dlx"
      },
      "execution_count": null,
      "outputs": []
    },
    {
      "cell_type": "code",
      "source": [
        "X = D[D.columns[1:]]\n",
        "y = D['CLASS']"
      ],
      "metadata": {
        "id": "clmJoTZn8N55"
      },
      "execution_count": null,
      "outputs": []
    },
    {
      "cell_type": "code",
      "source": [
        "# one hot encoding\n",
        "y_encoded = pd.get_dummies(y)"
      ],
      "metadata": {
        "id": "q7isYqED8cEm"
      },
      "execution_count": null,
      "outputs": []
    },
    {
      "cell_type": "code",
      "source": [
        "# construction des jeux de données train et test\n",
        "X_train, X_test, y_train, y_test = train_test_split(X, y, train_size=1310, random_state=12345)"
      ],
      "metadata": {
        "id": "0uz49jHQ92ZJ"
      },
      "execution_count": null,
      "outputs": []
    },
    {
      "cell_type": "code",
      "source": [
        "# déclaration du modèle à l'aide d'un pipeline\n",
        "model_p1 = make_pipeline(\n",
        "    StandardScaler(),\n",
        "    MLPClassifier(\n",
        "        hidden_layer_sizes=(10,),\n",
        "        max_iter=300,\n",
        "        random_state=42))"
      ],
      "metadata": {
        "id": "CoVWTYSt-FQx"
      },
      "execution_count": null,
      "outputs": []
    },
    {
      "cell_type": "code",
      "source": [
        "# entrainement du modèle\n",
        "model_p1.fit(X_train, y_train)"
      ],
      "metadata": {
        "colab": {
          "base_uri": "https://localhost:8080/",
          "height": 162
        },
        "id": "oyznj32F-USc",
        "outputId": "ad274dc9-e94e-4f6d-c020-fbac1555dc27"
      },
      "execution_count": null,
      "outputs": [
        {
          "output_type": "stream",
          "name": "stderr",
          "text": [
            "/usr/local/lib/python3.10/dist-packages/sklearn/neural_network/_multilayer_perceptron.py:686: ConvergenceWarning: Stochastic Optimizer: Maximum iterations (300) reached and the optimization hasn't converged yet.\n",
            "  warnings.warn(\n"
          ]
        },
        {
          "output_type": "execute_result",
          "data": {
            "text/plain": [
              "Pipeline(steps=[('standardscaler', StandardScaler()),\n",
              "                ('mlpclassifier',\n",
              "                 MLPClassifier(hidden_layer_sizes=(10,), max_iter=300,\n",
              "                               random_state=42))])"
            ],
            "text/html": [
              "<style>#sk-container-id-10 {color: black;background-color: white;}#sk-container-id-10 pre{padding: 0;}#sk-container-id-10 div.sk-toggleable {background-color: white;}#sk-container-id-10 label.sk-toggleable__label {cursor: pointer;display: block;width: 100%;margin-bottom: 0;padding: 0.3em;box-sizing: border-box;text-align: center;}#sk-container-id-10 label.sk-toggleable__label-arrow:before {content: \"▸\";float: left;margin-right: 0.25em;color: #696969;}#sk-container-id-10 label.sk-toggleable__label-arrow:hover:before {color: black;}#sk-container-id-10 div.sk-estimator:hover label.sk-toggleable__label-arrow:before {color: black;}#sk-container-id-10 div.sk-toggleable__content {max-height: 0;max-width: 0;overflow: hidden;text-align: left;background-color: #f0f8ff;}#sk-container-id-10 div.sk-toggleable__content pre {margin: 0.2em;color: black;border-radius: 0.25em;background-color: #f0f8ff;}#sk-container-id-10 input.sk-toggleable__control:checked~div.sk-toggleable__content {max-height: 200px;max-width: 100%;overflow: auto;}#sk-container-id-10 input.sk-toggleable__control:checked~label.sk-toggleable__label-arrow:before {content: \"▾\";}#sk-container-id-10 div.sk-estimator input.sk-toggleable__control:checked~label.sk-toggleable__label {background-color: #d4ebff;}#sk-container-id-10 div.sk-label input.sk-toggleable__control:checked~label.sk-toggleable__label {background-color: #d4ebff;}#sk-container-id-10 input.sk-hidden--visually {border: 0;clip: rect(1px 1px 1px 1px);clip: rect(1px, 1px, 1px, 1px);height: 1px;margin: -1px;overflow: hidden;padding: 0;position: absolute;width: 1px;}#sk-container-id-10 div.sk-estimator {font-family: monospace;background-color: #f0f8ff;border: 1px dotted black;border-radius: 0.25em;box-sizing: border-box;margin-bottom: 0.5em;}#sk-container-id-10 div.sk-estimator:hover {background-color: #d4ebff;}#sk-container-id-10 div.sk-parallel-item::after {content: \"\";width: 100%;border-bottom: 1px solid gray;flex-grow: 1;}#sk-container-id-10 div.sk-label:hover label.sk-toggleable__label {background-color: #d4ebff;}#sk-container-id-10 div.sk-serial::before {content: \"\";position: absolute;border-left: 1px solid gray;box-sizing: border-box;top: 0;bottom: 0;left: 50%;z-index: 0;}#sk-container-id-10 div.sk-serial {display: flex;flex-direction: column;align-items: center;background-color: white;padding-right: 0.2em;padding-left: 0.2em;position: relative;}#sk-container-id-10 div.sk-item {position: relative;z-index: 1;}#sk-container-id-10 div.sk-parallel {display: flex;align-items: stretch;justify-content: center;background-color: white;position: relative;}#sk-container-id-10 div.sk-item::before, #sk-container-id-10 div.sk-parallel-item::before {content: \"\";position: absolute;border-left: 1px solid gray;box-sizing: border-box;top: 0;bottom: 0;left: 50%;z-index: -1;}#sk-container-id-10 div.sk-parallel-item {display: flex;flex-direction: column;z-index: 1;position: relative;background-color: white;}#sk-container-id-10 div.sk-parallel-item:first-child::after {align-self: flex-end;width: 50%;}#sk-container-id-10 div.sk-parallel-item:last-child::after {align-self: flex-start;width: 50%;}#sk-container-id-10 div.sk-parallel-item:only-child::after {width: 0;}#sk-container-id-10 div.sk-dashed-wrapped {border: 1px dashed gray;margin: 0 0.4em 0.5em 0.4em;box-sizing: border-box;padding-bottom: 0.4em;background-color: white;}#sk-container-id-10 div.sk-label label {font-family: monospace;font-weight: bold;display: inline-block;line-height: 1.2em;}#sk-container-id-10 div.sk-label-container {text-align: center;}#sk-container-id-10 div.sk-container {/* jupyter's `normalize.less` sets `[hidden] { display: none; }` but bootstrap.min.css set `[hidden] { display: none !important; }` so we also need the `!important` here to be able to override the default hidden behavior on the sphinx rendered scikit-learn.org. See: https://github.com/scikit-learn/scikit-learn/issues/21755 */display: inline-block !important;position: relative;}#sk-container-id-10 div.sk-text-repr-fallback {display: none;}</style><div id=\"sk-container-id-10\" class=\"sk-top-container\"><div class=\"sk-text-repr-fallback\"><pre>Pipeline(steps=[(&#x27;standardscaler&#x27;, StandardScaler()),\n",
              "                (&#x27;mlpclassifier&#x27;,\n",
              "                 MLPClassifier(hidden_layer_sizes=(10,), max_iter=300,\n",
              "                               random_state=42))])</pre><b>In a Jupyter environment, please rerun this cell to show the HTML representation or trust the notebook. <br />On GitHub, the HTML representation is unable to render, please try loading this page with nbviewer.org.</b></div><div class=\"sk-container\" hidden><div class=\"sk-item sk-dashed-wrapped\"><div class=\"sk-label-container\"><div class=\"sk-label sk-toggleable\"><input class=\"sk-toggleable__control sk-hidden--visually\" id=\"sk-estimator-id-34\" type=\"checkbox\" ><label for=\"sk-estimator-id-34\" class=\"sk-toggleable__label sk-toggleable__label-arrow\">Pipeline</label><div class=\"sk-toggleable__content\"><pre>Pipeline(steps=[(&#x27;standardscaler&#x27;, StandardScaler()),\n",
              "                (&#x27;mlpclassifier&#x27;,\n",
              "                 MLPClassifier(hidden_layer_sizes=(10,), max_iter=300,\n",
              "                               random_state=42))])</pre></div></div></div><div class=\"sk-serial\"><div class=\"sk-item\"><div class=\"sk-estimator sk-toggleable\"><input class=\"sk-toggleable__control sk-hidden--visually\" id=\"sk-estimator-id-35\" type=\"checkbox\" ><label for=\"sk-estimator-id-35\" class=\"sk-toggleable__label sk-toggleable__label-arrow\">StandardScaler</label><div class=\"sk-toggleable__content\"><pre>StandardScaler()</pre></div></div></div><div class=\"sk-item\"><div class=\"sk-estimator sk-toggleable\"><input class=\"sk-toggleable__control sk-hidden--visually\" id=\"sk-estimator-id-36\" type=\"checkbox\" ><label for=\"sk-estimator-id-36\" class=\"sk-toggleable__label sk-toggleable__label-arrow\">MLPClassifier</label><div class=\"sk-toggleable__content\"><pre>MLPClassifier(hidden_layer_sizes=(10,), max_iter=300, random_state=42)</pre></div></div></div></div></div></div></div>"
            ]
          },
          "metadata": {},
          "execution_count": 65
        }
      ]
    },
    {
      "cell_type": "code",
      "source": [
        "# évaluation du modèle\n",
        "model_p1.score(X_test, y_test)"
      ],
      "metadata": {
        "colab": {
          "base_uri": "https://localhost:8080/"
        },
        "id": "M4gWVBq9-XKI",
        "outputId": "9c248546-0b8f-4499-9466-60dca20f55cf"
      },
      "execution_count": null,
      "outputs": [
        {
          "output_type": "execute_result",
          "data": {
            "text/plain": [
              "0.9329113924050633"
            ]
          },
          "metadata": {},
          "execution_count": 66
        }
      ]
    },
    {
      "cell_type": "code",
      "source": [
        "from sklearn.metrics import classification_report, confusion_matrix\n",
        "\n",
        "predictions = model_p1.predict(X_test)\n",
        "\n",
        "# Evaluation du modèle\n",
        "print(confusion_matrix(y_test, predictions))\n",
        "print(classification_report(y_test, predictions))"
      ],
      "metadata": {
        "colab": {
          "base_uri": "https://localhost:8080/"
        },
        "id": "v3L-jAQH2zQ9",
        "outputId": "62ebcb59-01e6-474d-e88b-fafe921dd2d7"
      },
      "execution_count": null,
      "outputs": [
        {
          "output_type": "stream",
          "name": "stdout",
          "text": [
            "[[109   0   0   0   0   0   1]\n",
            " [  1  93   2   0   1   0   6]\n",
            " [  0   2 102   0   0   0  10]\n",
            " [  0   0   0 115   1   0   0]\n",
            " [  0   0   0   0 115   0   0]\n",
            " [  0   0   0   0   0 112   0]\n",
            " [  0   7  22   0   0   0  91]]\n",
            "              precision    recall  f1-score   support\n",
            "\n",
            "   BRICKFACE       0.99      0.99      0.99       110\n",
            "      CEMENT       0.91      0.90      0.91       103\n",
            "     FOLIAGE       0.81      0.89      0.85       114\n",
            "       GRASS       1.00      0.99      1.00       116\n",
            "        PATH       0.98      1.00      0.99       115\n",
            "         SKY       1.00      1.00      1.00       112\n",
            "      WINDOW       0.84      0.76      0.80       120\n",
            "\n",
            "    accuracy                           0.93       790\n",
            "   macro avg       0.93      0.93      0.93       790\n",
            "weighted avg       0.93      0.93      0.93       790\n",
            "\n"
          ]
        }
      ]
    },
    {
      "cell_type": "markdown",
      "source": [
        "# Grid Search CV"
      ],
      "metadata": {
        "id": "dx175nQh_GcY"
      }
    },
    {
      "cell_type": "code",
      "source": [
        "from sklearn.model_selection import GridSearchCV"
      ],
      "metadata": {
        "id": "y_4onrEH-cB7"
      },
      "execution_count": null,
      "outputs": []
    },
    {
      "cell_type": "code",
      "source": [
        "model_p2 = make_pipeline(\n",
        "    StandardScaler(),\n",
        "    MLPClassifier(\n",
        "        hidden_layer_sizes=(10,),\n",
        "        max_iter=500,\n",
        "        activation='relu',\n",
        "        solver='lbfgs',\n",
        "        random_state=42,\n",
        "        learning_rate_init=0.01))"
      ],
      "metadata": {
        "id": "qp3QtwFu_Q89"
      },
      "execution_count": null,
      "outputs": []
    },
    {
      "cell_type": "code",
      "source": [
        "print(model_p2)"
      ],
      "metadata": {
        "colab": {
          "base_uri": "https://localhost:8080/"
        },
        "id": "2TE8FR5a_VD8",
        "outputId": "b290a823-ccbf-4e4a-81d6-1b86e5bc4dcf"
      },
      "execution_count": null,
      "outputs": [
        {
          "output_type": "stream",
          "name": "stdout",
          "text": [
            "Pipeline(steps=[('standardscaler', StandardScaler()),\n",
            "                ('mlpclassifier',\n",
            "                 MLPClassifier(batch_size=20, hidden_layer_sizes=(10,),\n",
            "                               learning_rate_init=0.01, max_iter=500,\n",
            "                               random_state=42, solver='lbfgs'))])\n"
          ]
        }
      ]
    },
    {
      "cell_type": "code",
      "source": [
        "params = {\n",
        "    'mlpclassifier__hidden_layer_sizes' : [(10,), (10,10), (10,10,10), (50,), (50, 50), (50, 50, 50)],\n",
        "    'mlpclassifier__solver' : ['lbfgs', 'sgd', 'adam']\n",
        "}"
      ],
      "metadata": {
        "id": "Gl7xxmnn_mB0"
      },
      "execution_count": null,
      "outputs": []
    },
    {
      "cell_type": "code",
      "source": [
        "grid = GridSearchCV(model_p2, param_grid=params, cv=4)"
      ],
      "metadata": {
        "id": "5waSPpIiAIeC"
      },
      "execution_count": null,
      "outputs": []
    },
    {
      "cell_type": "code",
      "source": [
        "grid.fit(X_train, y_train)"
      ],
      "metadata": {
        "id": "mZ57LDnSATq7"
      },
      "execution_count": null,
      "outputs": []
    },
    {
      "cell_type": "code",
      "source": [
        "# Affichage du meilleur paramètre et du score correspondant\n",
        "print(\"Meilleur paramètre : \", grid.best_params_)\n",
        "print(\"Meilleur score : \", grid.best_score_)"
      ],
      "metadata": {
        "colab": {
          "base_uri": "https://localhost:8080/"
        },
        "id": "Dw47f45vAZlD",
        "outputId": "af35fc08-4173-43ac-c851-11b1043c042e"
      },
      "execution_count": null,
      "outputs": [
        {
          "output_type": "stream",
          "name": "stdout",
          "text": [
            "Meilleur paramètre :  {'mlpclassifier__hidden_layer_sizes': (10, 10), 'mlpclassifier__solver': 'adam'}\n",
            "Meilleur score :  0.9595477176102036\n"
          ]
        }
      ]
    },
    {
      "cell_type": "code",
      "source": [
        "predictions = grid.best_estimator_.predict(X_test)"
      ],
      "metadata": {
        "id": "h1I6AYVXBIdE"
      },
      "execution_count": null,
      "outputs": []
    },
    {
      "cell_type": "code",
      "source": [
        "from sklearn.metrics import classification_report, confusion_matrix\n",
        "\n",
        "# Evaluation du modèle\n",
        "print(confusion_matrix(y_test, predictions))\n",
        "print(classification_report(y_test, predictions))"
      ],
      "metadata": {
        "colab": {
          "base_uri": "https://localhost:8080/"
        },
        "id": "EQCF7oz31JCq",
        "outputId": "e5b52070-961b-43be-ae12-c0332de769da"
      },
      "execution_count": null,
      "outputs": [
        {
          "output_type": "stream",
          "name": "stdout",
          "text": [
            "[[109   1   0   0   0   0   0]\n",
            " [  1  95   2   0   1   0   4]\n",
            " [  0   2 110   0   0   1   1]\n",
            " [  0   0   0 116   0   0   0]\n",
            " [  0   0   0   0 115   0   0]\n",
            " [  0   1   0   0   0 111   0]\n",
            " [  1   4  15   0   0   0 100]]\n",
            "              precision    recall  f1-score   support\n",
            "\n",
            "   BRICKFACE       0.98      0.99      0.99       110\n",
            "      CEMENT       0.92      0.92      0.92       103\n",
            "     FOLIAGE       0.87      0.96      0.91       114\n",
            "       GRASS       1.00      1.00      1.00       116\n",
            "        PATH       0.99      1.00      1.00       115\n",
            "         SKY       0.99      0.99      0.99       112\n",
            "      WINDOW       0.95      0.83      0.89       120\n",
            "\n",
            "    accuracy                           0.96       790\n",
            "   macro avg       0.96      0.96      0.96       790\n",
            "weighted avg       0.96      0.96      0.96       790\n",
            "\n"
          ]
        }
      ]
    },
    {
      "cell_type": "markdown",
      "source": [
        "Meilleure configuration trouvée avec les paramètres suivants :\n",
        "\n",
        "        hidden_layer_sizes=(90,90),\n",
        "        solver='sgd',  # Correction ici\n",
        "        learning_rate_init=0.05,\n",
        "        max_iter=500,"
      ],
      "metadata": {
        "id": "SyN1F9huyKFc"
      }
    }
  ]
}